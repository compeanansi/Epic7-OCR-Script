{
 "cells": [
  {
   "cell_type": "code",
   "execution_count": 1,
   "metadata": {
    "collapsed": true
   },
   "outputs": [],
   "source": [
    "from PIL import Image\n",
    "from pytesseract import image_to_string\n",
    "\n",
    "'''\n",
    "Python 3 only! To use this you need to install tesseract FIRST (not via pip)\n",
    "Then use pip to install PIL, pytesseract, and cv2\n",
    "'''\n",
    "\n",
    "def process(k,img):\n",
    "    if k != 'level' and k != 'plus':\n",
    "        thresh = cv2.THRESH_BINARY_INV|cv2.THRESH_OTSU\n",
    "        low = 0\n",
    "        #proc = cv2.cvtColor(cv2.medianBlur(cv2.threshold(cv2.cvtColor(cv2.resize(img, (0,0), fx=5, fy=5), cv2.COLOR_BGR2GRAY),low,255,thresh)[1], 3), cv2.COLOR_BGR2RGB)\n",
    "        resize = cv2.resize(img, (0,0), fx=5, fy=5) # Increase resolution to make OCR more reliable\n",
    "        gray = cv2.cvtColor(resize, cv2.COLOR_BGR2GRAY) # Turn gray\n",
    "        threshold = cv2.threshold(gray,low,255,thresh)[1] # Thresholding\n",
    "        blur = cv2.medianBlur(threshold, 3) # Blurring\n",
    "        proc = cv2.cvtColor(blur, cv2.COLOR_BGR2RGB) # Convert color scheme for Image\n",
    "        pil = Image.fromarray(proc) # Convert img format to that used by pytesseract\n",
    "        data = image_to_string(pil, lang='eng', config='--psm 6')\n",
    "    else:\n",
    "        thresh = cv2.THRESH_BINARY\n",
    "        low = 50\n",
    "        # Here I just collapse all of that ('resize' through 'proc') into a single line\n",
    "        proc = cv2.cvtColor(cv2.medianBlur(cv2.threshold(~cv2.cvtColor(cv2.resize(img, (0,0), fx=5, fy=5), cv2.COLOR_BGR2GRAY),low,255,thresh)[1], 3), cv2.COLOR_BGR2RGB)\n",
    "        data = image_to_string(Image.fromarray(proc), lang='eng', config='--psm 7')\n",
    "        if not any(i.isdigit() for i in data):\n",
    "            low = 100\n",
    "            proc = cv2.cvtColor(cv2.medianBlur(cv2.threshold(~cv2.cvtColor(cv2.resize(img, (0,0), fx=5, fy=5), cv2.COLOR_BGR2GRAY),low,255,thresh)[1], 3), cv2.COLOR_BGR2RGB)\n",
    "            data = image_to_string(Image.fromarray(proc), lang='eng', config='--psm 7')\n",
    "            if not any(i.isdigit() for i in data):\n",
    "                low = 125\n",
    "                proc = cv2.cvtColor(cv2.medianBlur(cv2.threshold(~cv2.cvtColor(cv2.resize(img, (0,0), fx=5, fy=5), cv2.COLOR_BGR2GRAY),low,255,thresh)[1], 3), cv2.COLOR_BGR2RGB)\n",
    "                data = image_to_string(Image.fromarray(proc), lang='eng', config='--psm 7')\n",
    "    return data\n",
    "\n",
    "def stat_converter(stat):\n",
    "    result = ''\n",
    "    if 'attack' in stat.lower():\n",
    "        result = 'Atk'\n",
    "        if '%' in stat: result += 'P'\n",
    "    if 'health' in stat.lower():\n",
    "        result = 'HP'\n",
    "        if '%' in stat: result += 'P'\n",
    "    if 'defense' in stat.lower():\n",
    "        result = 'Def'\n",
    "        if '%' in stat: result += 'P'\n",
    "    if 'speed' in stat.lower(): result = 'Spd'\n",
    "    if 'chance' in stat.lower(): result = 'CChance'\n",
    "    if 'damage' in stat.lower(): result = 'CDmg'\n",
    "    if 'effectiveness' in stat.lower(): result = 'Eff'\n",
    "    if 'resistance' in stat.lower(): result = 'Res'\n",
    "    return result\n",
    "\n",
    "def digit_filter(val):\n",
    "    return int(''.join(filter(str.isdigit,val)))\n",
    "\n",
    "def char_filter(val):\n",
    "    return ''.join(filter(str.isalpha,val)).capitalize()"
   ]
  },
  {
   "cell_type": "code",
   "execution_count": 2,
   "metadata": {
    "scrolled": true
   },
   "outputs": [
    {
     "name": "stdout",
     "output_type": "stream",
     "text": [
      "screenshots/Screenshot_20190322-115231.jpg\n",
      "Epic Ring\n",
      "85\n",
      "15\n",
      "Attack 60%\n",
      "['Health 5%', 'Speed 6', 'Critical Hit Chance 17%', 'Effectiveness 13%']\n",
      "Lifesteal Set (0/4)\n",
      "{'locked': False, 'efficiency': 0, 'id': 'jtl96f57', 'rarity': 'Epic', 'slot': 'Ring', 'level': 85, 'ability': 15, 'mainStat': ['AtkP', 60], 'subStat1': ['HPP', 5], 'subStat2': ['Spd', 6], 'subStat3': ['CChance', 17], 'subStat4': ['Eff', 13], 'set': 'Lifesteal'}\n"
     ]
    }
   ],
   "source": [
    "from glob import glob\n",
    "from string import ascii_lowercase, digits\n",
    "import random\n",
    "import cv2\n",
    "\n",
    "'''\n",
    "This is for 1080x2200 only. If you want to adapt it to another resolution you need to take new template screenshots\n",
    "for anchoring the top and bottom boxes. Then you need to redo all the coordinates for the small boxes within each chunk\n",
    "'''\n",
    "\n",
    "# Format for optimizer\n",
    "'''This will erase any heroes you have entered into the optimizer. If you want to keep your heroes you need to export\n",
    "them first and then copy and paste the data in \"heroes\":[] into the line below'''\n",
    "export = {\"processVersion\":\"1\",\"heroes\":[],\"items\":[]} #\n",
    "\n",
    "# Iterate through the files\n",
    "filenames = glob('screenshots/*')\n",
    "#filenames = ['screenshots/Screenshot_20190322-115231.jpg'] #uncomment this to test for a single image\n",
    "for name in filenames:\n",
    "    '''\n",
    "    Because the height of the item boxes changes depending on the length of the item and set descriptions, we have\n",
    "    to crop the top and bottom info separately in order to ensure the OCR boxes within these areas stay fixed\n",
    "    '''\n",
    "    \n",
    "    # All the print lines are currently uncommented so you can see how it works. Comment them to make it run silently!\n",
    "    \n",
    "    img = cv2.imread(name)\n",
    "    print(name)\n",
    "    \n",
    "    # Top Box\n",
    "    temp_top = cv2.imread('e7/top.jpg',0)\n",
    "    _, _, _, max_loc = cv2.minMaxLoc(cv2.matchTemplate(cv2.cvtColor(img, cv2.COLOR_BGR2GRAY), temp_top, cv2.TM_CCOEFF_NORMED))\n",
    "    top_box = img[max_loc[1]:max_loc[1]+160,740:1190] # Fixed width, then crop 160 pixels from top triangle\n",
    "    #cv2.imwrite('e7/top_box.jpg', top_box) # Uncomment this to see what the top box looks like\n",
    "\n",
    "    # Bottom Box\n",
    "    # The image template\n",
    "    temp_bot = cv2.imread('e7/bottom.jpg',0)\n",
    "    _, _, _, max_loc = cv2.minMaxLoc(cv2.matchTemplate(cv2.cvtColor(img, cv2.COLOR_BGR2GRAY), temp_bot, cv2.TM_CCOEFF_NORMED))\n",
    "    bottom_box = img[max_loc[1]+25:max_loc[1]+360,740:1190] # Fixed width, shift down 25 from divider, then crop 335 pixels deep\n",
    "    #cv2.imwrite('e7/bottom_box.jpg', bottom_box) # Uncomment this to see what the bottom box looks like\n",
    "\n",
    "    # Setup item dictionary\n",
    "    id_num = \"jt\"+\"\".join(random.choice(digits+ascii_lowercase) for _ in range(6))\n",
    "    item = {\"locked\":False,\"efficiency\":0,\"id\":id_num}\n",
    "\n",
    "    # Process top image\n",
    "    top_coords = {'type': [[20,70],[172,432]],\n",
    "                  'level': [[19,44],[37,66]],\n",
    "                  'plus': [[11,34],[139,168]]}\n",
    "    for k in top_coords.keys():\n",
    "        data = process(k,top_box[top_coords[k][0][0]:top_coords[k][0][1],top_coords[k][1][0]:top_coords[k][1][1]])\n",
    "        print(data)\n",
    "        if k == 'type':\n",
    "            item[\"rarity\"] = char_filter(data.split(' ')[0])\n",
    "            item[\"slot\"] = char_filter(data.split(' ')[1].split('\\n')[0])\n",
    "        if k == 'level':\n",
    "            # Tesseract will consistently misrecognize certain digits. The 'replace' function is correcting for\n",
    "            # the ones found so far. Feel free to add to it if you find more\n",
    "            item[\"level\"] = digit_filter(data.replace('S','5').replace('B','8').replace('a','8'))\n",
    "        if k == 'plus':\n",
    "            item[\"ability\"] = digit_filter(data.replace('S','5').replace('B','8').replace('a','8'))\n",
    "\n",
    "    # Process bottom image\n",
    "    bot_coords = {'main': [[8,70],[65,435]],\n",
    "                  'subs': [[98,255],[25,435]],\n",
    "                  'set': [[280,340],[76,435]]}\n",
    "    for k in bot_coords.keys():\n",
    "        data = process(k,bottom_box[bot_coords[k][0][0]:bot_coords[k][0][1],bot_coords[k][1][0]:bot_coords[k][1][1]])\n",
    "        if k == 'main':\n",
    "            print(data)\n",
    "            stat = stat_converter(data)\n",
    "            val = digit_filter(data)\n",
    "            item[\"mainStat\"] = [stat,val]\n",
    "        if k == 'subs':\n",
    "            print(data.split('\\n'))\n",
    "            for n,entry in enumerate(data.split('\\n')):\n",
    "                stat = stat_converter(entry)\n",
    "                # Same deal here. Tesseract occasionally misreads 7% as T%\n",
    "                val = digit_filter(entry.replace('T%','7%'))\n",
    "                item['subStat'+str(n+1)] = [stat,val]\n",
    "        if k == 'set':\n",
    "            print(data)\n",
    "            item[\"set\"] = char_filter(data.split(' Set')[0])\n",
    "    export[\"items\"].append(item)\n",
    "    print(item)"
   ]
  },
  {
   "cell_type": "code",
   "execution_count": 3,
   "metadata": {},
   "outputs": [
    {
     "name": "stdout",
     "output_type": "stream",
     "text": [
      "1 1\n"
     ]
    }
   ],
   "source": [
    "# Sanity Check to ensure all files were added to the dict\n",
    "print(len(export['items']),len(filenames))"
   ]
  },
  {
   "cell_type": "code",
   "execution_count": 4,
   "metadata": {
    "collapsed": true
   },
   "outputs": [],
   "source": [
    "import json\n",
    "\n",
    "# Export to json for importing into optimizer: https://eseo-8a854.firebaseapp.com/\n",
    "with open('e7/max.json', 'w') as fp: json.dump(export, fp)"
   ]
  },
  {
   "cell_type": "code",
   "execution_count": 5,
   "metadata": {},
   "outputs": [
    {
     "data": {
      "image/png": "[encoded data removed]",
      "text/plain": [
       "<matplotlib.figure.Figure at 0x105244d30>"
      ]
     },
     "metadata": {},
     "output_type": "display_data"
    },
    {
     "data": {
      "text/plain": [
       "'Heroic Necklace\\ngai... geeae i § ._'"
      ]
     },
     "execution_count": 5,
     "metadata": {},
     "output_type": "execute_result"
    }
   ],
   "source": [
    "from matplotlib import pyplot as plt\n",
    "import cv2\n",
    "\n",
    "# TROUBLESHOOTING 'type'\n",
    "\n",
    "img = cv2.imread('screenshots/test1.jpg')\n",
    "temp_top = cv2.imread('e7/top.jpg',0)\n",
    "_, _, _, max_loc = cv2.minMaxLoc(cv2.matchTemplate(cv2.cvtColor(img, cv2.COLOR_BGR2GRAY), temp_top, cv2.TM_CCOEFF_NORMED))\n",
    "top_box = img[max_loc[1]:max_loc[1]+160,740:1190]\n",
    "\n",
    "top_coords = {'type': [[20,70],[172,432]]}\n",
    "k = 'type'\n",
    "img = top_box[top_coords[k][0][0]:top_coords[k][0][1],top_coords[k][1][0]:top_coords[k][1][1]]\n",
    "thresh = cv2.THRESH_BINARY_INV|cv2.THRESH_OTSU\n",
    "low = 0\n",
    "proc = cv2.cvtColor(cv2.medianBlur(cv2.threshold(cv2.cvtColor(cv2.resize(img, (0,0), fx=5, fy=5), cv2.COLOR_BGR2GRAY),low,255,thresh)[1], 3), cv2.COLOR_BGR2RGB)\n",
    "plt.imshow(proc)\n",
    "plt.show()\n",
    "image_to_string(Image.fromarray(proc),lang='eng',config='--psm 6')"
   ]
  },
  {
   "cell_type": "code",
   "execution_count": 6,
   "metadata": {},
   "outputs": [
    {
     "data": {
      "image/png": "[encoded data removed]",
      "text/plain": [
       "<matplotlib.figure.Figure at 0x1163712e8>"
      ]
     },
     "metadata": {},
     "output_type": "display_data"
    },
    {
     "data": {
      "text/plain": [
       "'+b'"
      ]
     },
     "execution_count": 6,
     "metadata": {},
     "output_type": "execute_result"
    }
   ],
   "source": [
    "from matplotlib import pyplot as plt\n",
    "import cv2\n",
    "\n",
    "# TROUBLESHOOTING 'plus' and 'level'\n",
    "\n",
    "img = cv2.imread('screenshots/test2.jpg')\n",
    "temp_top = cv2.imread('e7/top.jpg',0)\n",
    "_, _, _, max_loc = cv2.minMaxLoc(cv2.matchTemplate(cv2.cvtColor(img, cv2.COLOR_BGR2GRAY), temp_top, cv2.TM_CCOEFF_NORMED))\n",
    "top_box = img[max_loc[1]:max_loc[1]+160,740:1190]\n",
    "\n",
    "top_coords = {'plus': [[11,34],[139,168]],\n",
    "              'level': [[19,44],[37,66]]}\n",
    "k = 'plus'\n",
    "img = top_box[top_coords[k][0][0]:top_coords[k][0][1],top_coords[k][1][0]:top_coords[k][1][1]]\n",
    "thresh = cv2.THRESH_BINARY\n",
    "low = 50 # check 50, 100, 125\n",
    "proc = cv2.cvtColor(cv2.medianBlur(cv2.threshold(~cv2.cvtColor(cv2.resize(img, (0,0), fx=5, fy=5), cv2.COLOR_BGR2GRAY),low,255,thresh)[1], 3), cv2.COLOR_BGR2RGB)\n",
    "plt.imshow(proc)\n",
    "plt.show()\n",
    "image_to_string(Image.fromarray(proc),lang='eng',config='--psm 7')"
   ]
  },
  {
   "cell_type": "code",
   "execution_count": 7,
   "metadata": {},
   "outputs": [
    {
     "data": {
      "image/png": "[encoded data removed]",
      "text/plain": [
       "<matplotlib.figure.Figure at 0x1054ae630>"
      ]
     },
     "metadata": {},
     "output_type": "display_data"
    },
    {
     "data": {
      "text/plain": [
       "'Speed 6\\nCritical Hit Chance 8%\\nEffect Resistance 3%\\nEffectiveness 6%'"
      ]
     },
     "execution_count": 7,
     "metadata": {},
     "output_type": "execute_result"
    }
   ],
   "source": [
    "from matplotlib import pyplot as plt\n",
    "import cv2\n",
    "\n",
    "# TROUBLESHOOTING 'main', 'subs', 'set'\n",
    "\n",
    "img = cv2.imread('screenshots/Screenshot_20190322-115902.jpg')\n",
    "temp_bot = cv2.imread('e7/bottom.jpg',0)\n",
    "_, _, _, max_loc = cv2.minMaxLoc(cv2.matchTemplate(cv2.cvtColor(img, cv2.COLOR_BGR2GRAY), temp_bot, cv2.TM_CCOEFF_NORMED))\n",
    "bottom_box = img[max_loc[1]+25:max_loc[1]+360,740:1190]\n",
    "\n",
    "bot_coords = {'main': [[8,70],[65,435]],\n",
    "              'subs': [[98,255],[25,435]],\n",
    "              'set': [[280,330],[76,435]]}\n",
    "k = 'subs'\n",
    "img = bottom_box[bot_coords[k][0][0]:bot_coords[k][0][1],bot_coords[k][1][0]:bot_coords[k][1][1]]\n",
    "thresh = cv2.THRESH_BINARY_INV|cv2.THRESH_OTSU\n",
    "low = 0\n",
    "proc = cv2.cvtColor(cv2.medianBlur(cv2.threshold(cv2.cvtColor(cv2.resize(img, (0,0), fx=5, fy=5), cv2.COLOR_BGR2GRAY),low,255,thresh)[1], 3), cv2.COLOR_BGR2RGB)\n",
    "plt.imshow(proc)\n",
    "plt.show()\n",
    "image_to_string(Image.fromarray(proc),lang='eng',config='--psm 6')"
   ]
  },
  {
   "cell_type": "code",
   "execution_count": null,
   "metadata": {
    "collapsed": true
   },
   "outputs": [],
   "source": []
  }
 ],
 "metadata": {
  "kernelspec": {
   "display_name": "Python 3",
   "language": "python",
   "name": "python3"
  },
  "language_info": {
   "codemirror_mode": {
    "name": "ipython",
    "version": 3
   },
   "file_extension": ".py",
   "mimetype": "text/x-python",
   "name": "python",
   "nbconvert_exporter": "python",
   "pygments_lexer": "ipython3",
   "version": "3.6.1"
  }
 },
 "nbformat": 4,
 "nbformat_minor": 2
}
